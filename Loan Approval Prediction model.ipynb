{
 "cells": [
  {
   "cell_type": "code",
   "execution_count": 1,
   "id": "167d158d-137c-473e-aa53-0cfd60191348",
   "metadata": {},
   "outputs": [
    {
     "name": "stdout",
     "output_type": "stream",
     "text": [
      "loan.csv file created successfully.\n"
     ]
    }
   ],
   "source": [
    "import pandas as pd\n",
    "\n",
    "# Sample data\n",
    "data = {\n",
    "    'ApplicantIncome': [5000, 3000, 4000, 6000, 3500, 4500, 7000, 2000, 2500, 3200],\n",
    "    'CoapplicantIncome': [0, 1500, 0, 0, 1800, 0, 0, 0, 1200, 0],\n",
    "    'LoanAmount': [200, 100, 150, 250, 120, 180, 300, 80, 90, 110],\n",
    "    'Loan_Amount_Term': [360, 360, 360, 360, 360, 360, 360, 360, 360, 360],\n",
    "    'Credit_History': [1, 0, 1, 1, 0, 1, 1, 0, 1, 1],\n",
    "    'Gender': ['Male', 'Female', 'Male', 'Male', 'Female', 'Male', 'Male', 'Female', 'Male', 'Female'],\n",
    "    'Married': ['Yes', 'No', 'Yes', 'Yes', 'No', 'Yes', 'Yes', 'No', 'No', 'No'],\n",
    "    'Education': ['Graduate', 'Not Graduate', 'Graduate', 'Graduate', 'Not Graduate', 'Graduate', 'Graduate', 'Not Graduate', 'Graduate', 'Graduate'],\n",
    "    'Self_Employed': ['No', 'Yes', 'No', 'No', 'Yes', 'No', 'No', 'Yes', 'No', 'No'],\n",
    "    'Property_Area': ['Urban', 'Rural', 'Urban', 'Semiurban', 'Rural', 'Urban', 'Urban', 'Rural', 'Semiurban', 'Urban'],\n",
    "    'Loan_Status': ['Y', 'N', 'Y', 'Y', 'N', 'Y', 'Y', 'N', 'Y', 'Y']\n",
    "}\n",
    "\n",
    "df = pd.DataFrame(data)\n",
    "df.to_csv('loan.csv', index=False)\n",
    "print(\"loan.csv file created successfully.\")\n"
   ]
  },
  {
   "cell_type": "code",
   "execution_count": 2,
   "id": "51b604d1-58ed-40a7-a030-ecef092a4ebe",
   "metadata": {},
   "outputs": [
    {
     "name": "stdout",
     "output_type": "stream",
     "text": [
      "   ApplicantIncome  CoapplicantIncome  LoanAmount  Loan_Amount_Term  \\\n",
      "0             5000                  0         200               360   \n",
      "1             3000               1500         100               360   \n",
      "2             4000                  0         150               360   \n",
      "3             6000                  0         250               360   \n",
      "4             3500               1800         120               360   \n",
      "\n",
      "   Credit_History  Gender Married     Education Self_Employed Property_Area  \\\n",
      "0               1    Male     Yes      Graduate            No         Urban   \n",
      "1               0  Female      No  Not Graduate           Yes         Rural   \n",
      "2               1    Male     Yes      Graduate            No         Urban   \n",
      "3               1    Male     Yes      Graduate            No     Semiurban   \n",
      "4               0  Female      No  Not Graduate           Yes         Rural   \n",
      "\n",
      "  Loan_Status  \n",
      "0           Y  \n",
      "1           N  \n",
      "2           Y  \n",
      "3           Y  \n",
      "4           N  \n",
      "       ApplicantIncome  CoapplicantIncome  LoanAmount  Loan_Amount_Term  \\\n",
      "count        10.000000          10.000000   10.000000              10.0   \n",
      "mean       4070.000000         450.000000  158.000000             360.0   \n",
      "std        1575.542235         738.241153   73.605555               0.0   \n",
      "min        2000.000000           0.000000   80.000000             360.0   \n",
      "25%        3050.000000           0.000000  102.500000             360.0   \n",
      "50%        3750.000000           0.000000  135.000000             360.0   \n",
      "75%        4875.000000         900.000000  195.000000             360.0   \n",
      "max        7000.000000        1800.000000  300.000000             360.0   \n",
      "\n",
      "       Credit_History  \n",
      "count       10.000000  \n",
      "mean         0.700000  \n",
      "std          0.483046  \n",
      "min          0.000000  \n",
      "25%          0.250000  \n",
      "50%          1.000000  \n",
      "75%          1.000000  \n",
      "max          1.000000  \n",
      "ApplicantIncome      0\n",
      "CoapplicantIncome    0\n",
      "LoanAmount           0\n",
      "Loan_Amount_Term     0\n",
      "Credit_History       0\n",
      "Gender               0\n",
      "Married              0\n",
      "Education            0\n",
      "Self_Employed        0\n",
      "Property_Area        0\n",
      "Loan_Status          0\n",
      "dtype: int64\n",
      "Loan_Status\n",
      "Y    7\n",
      "N    3\n",
      "Name: count, dtype: int64\n"
     ]
    }
   ],
   "source": [
    "# Load data\n",
    "df = pd.read_csv('loan.csv')\n",
    "\n",
    "# Display first few rows\n",
    "print(df.head())\n",
    "\n",
    "# Summary statistics\n",
    "print(df.describe())\n",
    "\n",
    "# Check for missing values\n",
    "print(df.isnull().sum())\n",
    "\n",
    "# Distribution of target variable\n",
    "print(df['Loan_Status'].value_counts())\n"
   ]
  },
  {
   "cell_type": "code",
   "execution_count": 3,
   "id": "e6a0ffa7-8097-483d-b476-c84865f82d82",
   "metadata": {},
   "outputs": [
    {
     "name": "stdout",
     "output_type": "stream",
     "text": [
      "   ApplicantIncome  CoapplicantIncome  LoanAmount  Loan_Amount_Term  \\\n",
      "0             5000                  0         200               360   \n",
      "1             3000               1500         100               360   \n",
      "2             4000                  0         150               360   \n",
      "3             6000                  0         250               360   \n",
      "4             3500               1800         120               360   \n",
      "\n",
      "   Credit_History  Gender  Married  Education  Self_Employed  Loan_Status  \\\n",
      "0               1       1        1          0              0            1   \n",
      "1               0       0        0          1              1            0   \n",
      "2               1       1        1          0              0            1   \n",
      "3               1       1        1          0              0            1   \n",
      "4               0       0        0          1              1            0   \n",
      "\n",
      "   Property_Area_Semiurban  Property_Area_Urban  \n",
      "0                    False                 True  \n",
      "1                    False                False  \n",
      "2                    False                 True  \n",
      "3                     True                False  \n",
      "4                    False                False  \n"
     ]
    }
   ],
   "source": [
    "# For this sample, no missing values, but if there were:\n",
    "# df.fillna(method='ffill', inplace=True)\n",
    "\n",
    "# Encode categorical variables using one-hot encoding or label encoding\n",
    "from sklearn.preprocessing import LabelEncoder\n",
    "\n",
    "# Encode target variable\n",
    "df['Loan_Status'] = df['Loan_Status'].map({'Y': 1, 'N': 0})\n",
    "\n",
    "# Encode binary categorical variables\n",
    "binary_cols = ['Gender', 'Married', 'Education', 'Self_Employed']\n",
    "for col in binary_cols:\n",
    "    df[col] = LabelEncoder().fit_transform(df[col])\n",
    "\n",
    "# One-hot encode 'Property_Area'\n",
    "df = pd.get_dummies(df, columns=['Property_Area'], drop_first=True)\n",
    "\n",
    "print(df.head())\n"
   ]
  },
  {
   "cell_type": "code",
   "execution_count": 4,
   "id": "4e790097-93d8-44cd-bf3b-56b551212044",
   "metadata": {},
   "outputs": [
    {
     "name": "stdout",
     "output_type": "stream",
     "text": [
      "Accuracy: 1.0\n",
      "              precision    recall  f1-score   support\n",
      "\n",
      "           0       1.00      1.00      1.00         1\n",
      "           1       1.00      1.00      1.00         1\n",
      "\n",
      "    accuracy                           1.00         2\n",
      "   macro avg       1.00      1.00      1.00         2\n",
      "weighted avg       1.00      1.00      1.00         2\n",
      "\n"
     ]
    }
   ],
   "source": [
    "from sklearn.model_selection import train_test_split\n",
    "from sklearn.ensemble import RandomForestClassifier\n",
    "from sklearn.metrics import classification_report, accuracy_score\n",
    "\n",
    "# Define features and target\n",
    "X = df.drop('Loan_Status', axis=1)\n",
    "y = df['Loan_Status']\n",
    "\n",
    "# Split data\n",
    "X_train, X_test, y_train, y_test = train_test_split(X, y, test_size=0.2, random_state=42)\n",
    "\n",
    "# Initialize and train model\n",
    "model = RandomForestClassifier(random_state=42)\n",
    "model.fit(X_train, y_train)\n",
    "\n",
    "# Predict\n",
    "y_pred = model.predict(X_test)\n",
    "\n",
    "# Evaluate\n",
    "print(\"Accuracy:\", accuracy_score(y_test, y_pred))\n",
    "print(classification_report(y_test, y_pred))\n"
   ]
  },
  {
   "cell_type": "code",
   "execution_count": 5,
   "id": "535022af-0542-4a8e-9347-22f50f2e1691",
   "metadata": {},
   "outputs": [
    {
     "data": {
      "image/png": "[encoded data removed]",
      "text/plain": [
       "<Figure size 1000x600 with 1 Axes>"
      ]
     },
     "metadata": {},
     "output_type": "display_data"
    },
    {
     "name": "stdout",
     "output_type": "stream",
     "text": [
      "                    Feature  Importance\n",
      "7                 Education    0.244303\n",
      "4            Credit_History    0.206737\n",
      "8             Self_Employed    0.170794\n",
      "0           ApplicantIncome    0.095979\n",
      "2                LoanAmount    0.076473\n",
      "6                   Married    0.073651\n",
      "10      Property_Area_Urban    0.066808\n",
      "1         CoapplicantIncome    0.048889\n",
      "5                    Gender    0.016367\n",
      "3          Loan_Amount_Term    0.000000\n",
      "9   Property_Area_Semiurban    0.000000\n"
     ]
    }
   ],
   "source": [
    "import matplotlib.pyplot as plt\n",
    "import seaborn as sns\n",
    "\n",
    "# Get feature importances\n",
    "importances = model.feature_importances_\n",
    "features = X.columns\n",
    "\n",
    "# Create a DataFrame\n",
    "feat_imp = pd.DataFrame({'Feature': features, 'Importance': importances})\n",
    "feat_imp = feat_imp.sort_values(by='Importance', ascending=False)\n",
    "\n",
    "# Plot\n",
    "plt.figure(figsize=(10,6))\n",
    "sns.barplot(x='Importance', y='Feature', data=feat_imp)\n",
    "plt.title('Feature Importance')\n",
    "plt.show()\n",
    "\n",
    "print(feat_imp)\n"
   ]
  },
  {
   "cell_type": "code",
   "execution_count": null,
   "id": "76fd2f36-fc05-48e0-9f77-5ceb1f0ea6ca",
   "metadata": {},
   "outputs": [],
   "source": []
  }
 ],
 "metadata": {
  "kernelspec": {
   "display_name": "Python 3 (ipykernel)",
   "language": "python",
   "name": "python3"
  },
  "language_info": {
   "codemirror_mode": {
    "name": "ipython",
    "version": 3
   },
   "file_extension": ".py",
   "mimetype": "text/x-python",
   "name": "python",
   "nbconvert_exporter": "python",
   "pygments_lexer": "ipython3",
   "version": "3.13.5"
  }
 },
 "nbformat": 4,
 "nbformat_minor": 5
}
